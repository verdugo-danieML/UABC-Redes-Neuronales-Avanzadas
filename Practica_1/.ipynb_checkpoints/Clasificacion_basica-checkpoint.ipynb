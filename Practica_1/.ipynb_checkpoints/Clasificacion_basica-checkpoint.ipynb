{
 "cells": [
  {
   "cell_type": "markdown",
   "id": "e6bd6206-2fbd-46c8-946d-80a266d8be6f",
   "metadata": {},
   "source": [
    "# PRACTICA #1 Clasificación Básica: Predecir una imagen de moda"
   ]
  },
  {
   "cell_type": "markdown",
   "id": "7ecbbc4b-1448-4883-b0e5-480cc20e8f46",
   "metadata": {},
   "source": [
    "## Clonamos el repositorio para obtener los datos"
   ]
  },
  {
   "cell_type": "code",
   "execution_count": 1,
   "id": "6e66dbe2-d446-4ecc-9904-077c63003078",
   "metadata": {},
   "outputs": [],
   "source": [
    "#! git clone https://github.com/zalandoresearch/fashion-mnist.git"
   ]
  },
  {
   "cell_type": "code",
   "execution_count": 2,
   "id": "d36ffde9-34a0-457b-87bd-47b381a6e1e9",
   "metadata": {},
   "outputs": [],
   "source": [
    "#! mv fashion-mnist/ Practica_1/"
   ]
  },
  {
   "cell_type": "markdown",
   "id": "81642c9b-6d99-4704-9ceb-0ccccdad5cdb",
   "metadata": {},
   "source": [
    "## Observemos La primera image y primera etiqueta"
   ]
  },
  {
   "cell_type": "code",
   "execution_count": 3,
   "id": "75c06a88-6c6b-4e86-a24a-e39f03e3c4d7",
   "metadata": {},
   "outputs": [],
   "source": [
    "from dataset import *\n",
    "import matplotlib.pyplot as plt"
   ]
  },
  {
   "cell_type": "code",
   "execution_count": 4,
   "id": "a70176f7-349a-4f0a-a100-146d20013d85",
   "metadata": {},
   "outputs": [],
   "source": [
    "train_images_file_path = \"fashion-mnist/data/fashion/train-images-idx3-ubyte.gz\"\n",
    "train_labels_file_path = \"fashion-mnist/data/fashion/train-labels-idx1-ubyte.gz\"\n",
    "test_images_file_path = \"fashion-mnist/data/fashion/t10k-images-idx3-ubyte.gz\"\n",
    "test_labels_file_path = \"fashion-mnist/data/fashion/t10k-labels-idx1-ubyte.gz\"\n",
    "\n",
    "x_train = read_mnist_images(train_images_file_path)\n",
    "y_train = read_mnist_labels(train_labels_file_path)\n",
    "\n",
    "x_test = read_mnist_images(test_images_file_path)\n",
    "y_test = read_mnist_labels(test_labels_file_path)\n",
    "\n",
    "class_names = ['T-shirt/top', 'Trouser', 'Pullover', 'Dress', 'Coat',\n",
    "               'Sandal', 'Shirt', 'Sneaker', 'Bag', 'Ankle boot']"
   ]
  },
  {
   "cell_type": "code",
   "execution_count": 5,
   "id": "43557553-e45d-477d-980c-1b41f37806fc",
   "metadata": {},
   "outputs": [
    {
     "data": {
      "image/png": "[encoded data removed]",
      "text/plain": [
       "<Figure size 640x480 with 1 Axes>"
      ]
     },
     "metadata": {},
     "output_type": "display_data"
    }
   ],
   "source": [
    "plt.imshow(x_train[0], cmap=\"gray\")\n",
    "plt.title(f\"Label: {class_names[y_train[0]]}\")\n",
    "plt.axis('off')\n",
    "plt.show()"
   ]
  },
  {
   "cell_type": "code",
   "execution_count": 6,
   "id": "4fa022de-9766-4230-bf7c-8954d1a91b66",
   "metadata": {},
   "outputs": [
    {
     "name": "stdout",
     "output_type": "stream",
     "text": [
      "(60000, 28, 28) (60000,)\n"
     ]
    }
   ],
   "source": [
    "print(x_train.shape, y_train.shape)"
   ]
  },
  {
   "cell_type": "markdown",
   "id": "46f784bb-3ddd-4513-8510-4bcbd7d4f583",
   "metadata": {},
   "source": [
    "## Normalizemos las imagenes y convercion a tensores"
   ]
  },
  {
   "cell_type": "code",
   "execution_count": 7,
   "id": "405e1798-3d45-4730-bfe5-023c3210471e",
   "metadata": {},
   "outputs": [],
   "source": [
    "import torch\n",
    "import torch.nn as nn\n",
    "import torch.optim as optim\n",
    "from torch.utils.data import DataLoader, TensorDataset\n",
    "from Model import SimpleNN\n",
    "from ml_helper import *"
   ]
  },
  {
   "cell_type": "code",
   "execution_count": 8,
   "id": "fd57f060-4b6b-479a-933a-283eaeea61bd",
   "metadata": {},
   "outputs": [],
   "source": [
    "x_train = torch.tensor(x_train, dtype = torch.float32) / 255.0\n",
    "y_train = torch.tensor(y_train, dtype=torch.int64)\n",
    "\n",
    "x_test = torch.tensor(x_test, dtype = torch.float32) / 255.0\n",
    "y_test = torch.tensor(y_test, dtype=torch.int64)"
   ]
  },
  {
   "cell_type": "code",
   "execution_count": 9,
   "id": "b1f117e9-3aca-4a12-86f0-5c78373a6ee5",
   "metadata": {},
   "outputs": [
    {
     "name": "stdout",
     "output_type": "stream",
     "text": [
      "tensor(0.) tensor(1.)\n"
     ]
    }
   ],
   "source": [
    "print(x_train.min(), x_train.max())"
   ]
  },
  {
   "cell_type": "markdown",
   "id": "97b45d40-7355-494b-a61c-313e6e4b5d47",
   "metadata": {},
   "source": [
    "## Crear un conjunto de datos y cargador de datos"
   ]
  },
  {
   "cell_type": "code",
   "execution_count": 10,
   "id": "e8de0c8c-40b6-4921-9af3-aaae27446cbc",
   "metadata": {},
   "outputs": [],
   "source": [
    "# Crear un conjunto de datos y cargador de datos\n",
    "train_dataset = TensorDataset(x_train, y_train)\n",
    "batch_size = 64\n",
    "train_dataloader = DataLoader(train_dataset, batch_size=batch_size, shuffle=True)"
   ]
  },
  {
   "cell_type": "markdown",
   "id": "9d3e8e79-0161-4571-ba4c-8af8333b3713",
   "metadata": {},
   "source": [
    "## Crear el modelo"
   ]
  },
  {
   "cell_type": "code",
   "execution_count": 11,
   "id": "de0d0d2d-5c92-467d-9c12-4dea9deb638c",
   "metadata": {},
   "outputs": [
    {
     "name": "stderr",
     "output_type": "stream",
     "text": [
      "/home/dany/anaconda3/envs/NeRF/lib/python3.10/site-packages/torch/autograd/__init__.py:200: UserWarning: CUDA initialization: Unexpected error from cudaGetDeviceCount(). Did you run some cuda functions before calling NumCudaDevices() that might have already set an error? Error 804: forward compatibility was attempted on non supported HW (Triggered internally at /opt/conda/conda-bld/pytorch_1682343995026/work/c10/cuda/CUDAFunctions.cpp:109.)\n",
      "  Variable._execution_engine.run_backward(  # Calls into the C++ engine to run the backward pass\n"
     ]
    },
    {
     "name": "stdout",
     "output_type": "stream",
     "text": [
      "Epoch [1/10], Loss: 0.4182\n",
      "Epoch [2/10], Loss: 0.7882\n",
      "Epoch [3/10], Loss: 0.2115\n",
      "Epoch [4/10], Loss: 0.5783\n",
      "Epoch [5/10], Loss: 0.2782\n",
      "Epoch [6/10], Loss: 0.5038\n",
      "Epoch [7/10], Loss: 0.3160\n",
      "Epoch [8/10], Loss: 0.1463\n",
      "Epoch [9/10], Loss: 0.3152\n",
      "Epoch [10/10], Loss: 0.3791\n"
     ]
    }
   ],
   "source": [
    "# Instanciar la red neuronal y el optimizador\n",
    "nb_epochs = 10\n",
    "lr = 1e-3\n",
    "\n",
    "model = SimpleNN()\n",
    "criterion = nn.CrossEntropyLoss()\n",
    "optimizer = optim.Adam(model.parameters(), lr=lr)\n",
    "\n",
    "training_loss = training(model, optimizer, criterion,\n",
    "                         nb_epochs, train_dataloader)"
   ]
  },
  {
   "cell_type": "code",
   "execution_count": 12,
   "id": "630f35c5-4139-41cb-b9ce-65ef68176e37",
   "metadata": {},
   "outputs": [],
   "source": [
    "torch.save(model, 'model_1')"
   ]
  },
  {
   "cell_type": "code",
   "execution_count": 13,
   "id": "eac05e2a-5dd2-45fb-9b49-c7b91d34e433",
   "metadata": {},
   "outputs": [
    {
     "data": {
      "image/png": "[encoded data removed]",
      "text/plain": [
       "<Figure size 640x480 with 1 Axes>"
      ]
     },
     "metadata": {},
     "output_type": "display_data"
    }
   ],
   "source": [
    "plt.plot(training_loss)\n",
    "plt.title('Grafica de perdida')\n",
    "plt.show()"
   ]
  },
  {
   "cell_type": "markdown",
   "id": "ec5b9063-d522-49a5-97ee-47fce35801f1",
   "metadata": {},
   "source": [
    "## Testing"
   ]
  },
  {
   "cell_type": "code",
   "execution_count": 14,
   "id": "6a330552-14ff-428d-9238-19690233a655",
   "metadata": {},
   "outputs": [],
   "source": [
    "test_dataset = TensorDataset(x_test, y_test)\n",
    "batch_size = 64\n",
    "test_dataloader = DataLoader(test_dataset, batch_size=batch_size, shuffle=False)"
   ]
  },
  {
   "cell_type": "code",
   "execution_count": 15,
   "id": "267763a0-9267-47cd-986e-a4f0ee27ea14",
   "metadata": {},
   "outputs": [],
   "source": [
    "model = torch.load('model_1')"
   ]
  },
  {
   "cell_type": "code",
   "execution_count": 16,
   "id": "e4a79e63-b7f6-46a7-8476-fe7bc9a3e025",
   "metadata": {},
   "outputs": [
    {
     "name": "stdout",
     "output_type": "stream",
     "text": [
      "Test Accuracy: 88.4%\n"
     ]
    }
   ],
   "source": [
    "error_idx, predicted = test(model, test_dataloader)"
   ]
  },
  {
   "cell_type": "markdown",
   "id": "3bfdda52-a398-45af-92fd-2370d61cd2ca",
   "metadata": {},
   "source": [
    "## Cantidad de parametros"
   ]
  },
  {
   "cell_type": "code",
   "execution_count": 17,
   "id": "97572249-6a4f-4d9e-b9a0-cf1a5fa0b725",
   "metadata": {},
   "outputs": [
    {
     "data": {
      "text/plain": [
       "(101770, [100352, 128, 1280, 10])"
      ]
     },
     "execution_count": 17,
     "metadata": {},
     "output_type": "execute_result"
    }
   ],
   "source": [
    "numel_list = [p.numel() for p in model.parameters()]\n",
    "sum(numel_list), numel_list"
   ]
  },
  {
   "cell_type": "markdown",
   "id": "81d4d90c-8117-43e5-b92d-e5f298e315d5",
   "metadata": {},
   "source": [
    "## Predicciones"
   ]
  },
  {
   "cell_type": "code",
   "execution_count": 18,
   "id": "6585476f-ce66-4f80-8d2c-8784bde0b09e",
   "metadata": {},
   "outputs": [],
   "source": [
    "idx = np.random.randint(0,10000)"
   ]
  },
  {
   "cell_type": "code",
   "execution_count": 19,
   "id": "bd477dfc-8e82-42a6-b866-f03e0ff64e6e",
   "metadata": {},
   "outputs": [],
   "source": [
    "output = model(x_test[idx].unsqueeze(0))"
   ]
  },
  {
   "cell_type": "code",
   "execution_count": 20,
   "id": "2835d60c-6a8e-430b-90cc-68f98b4cc739",
   "metadata": {},
   "outputs": [],
   "source": [
    "_, prediction = torch.max(output, dim=1)"
   ]
  },
  {
   "cell_type": "code",
   "execution_count": 21,
   "id": "965506aa-ce4c-467f-a7a0-97e8eee14679",
   "metadata": {},
   "outputs": [
    {
     "data": {
      "text/plain": [
       "(tensor([5]), tensor(5))"
      ]
     },
     "execution_count": 21,
     "metadata": {},
     "output_type": "execute_result"
    }
   ],
   "source": [
    "prediction,  y_test[idx]"
   ]
  },
  {
   "cell_type": "code",
   "execution_count": 22,
   "id": "2f983dcc-6f36-4c64-806e-2d6a28042c3b",
   "metadata": {},
   "outputs": [
    {
     "data": {
      "image/png": "[encoded data removed]",
      "text/plain": [
       "<Figure size 640x480 with 1 Axes>"
      ]
     },
     "metadata": {},
     "output_type": "display_data"
    }
   ],
   "source": [
    "plt.imshow(x_test[idx], cmap=\"gray\")\n",
    "plt.title(f\"Etiqueta predecida: {class_names[prediction]} , etiqueta real : {class_names[ y_test[idx]]}\")\n",
    "plt.axis('off')\n",
    "plt.show()"
   ]
  },
  {
   "cell_type": "markdown",
   "id": "780754ee-b977-4e2d-9fd2-9c54a7a317ee",
   "metadata": {},
   "source": [
    "## Observar predicciones equivocadas "
   ]
  },
  {
   "cell_type": "code",
   "execution_count": 23,
   "id": "9bc42332-6300-4000-83fe-ac1818ffbb0b",
   "metadata": {},
   "outputs": [
    {
     "data": {
      "text/plain": [
       "torch.Size([10000])"
      ]
     },
     "execution_count": 23,
     "metadata": {},
     "output_type": "execute_result"
    }
   ],
   "source": [
    "idx_tensor = torch.cat(error_idx, dim=0) \n",
    "idx_tensor.shape"
   ]
  },
  {
   "cell_type": "code",
   "execution_count": 24,
   "id": "4fbd5062-01e4-4177-a474-cec6063b8c57",
   "metadata": {},
   "outputs": [
    {
     "ename": "TypeError",
     "evalue": "cat() received an invalid combination of arguments - got (Tensor, dim=int), but expected one of:\n * (tuple of Tensors tensors, int dim, *, Tensor out)\n * (tuple of Tensors tensors, name dim, *, Tensor out)\n",
     "output_type": "error",
     "traceback": [
      "\u001b[0;31m---------------------------------------------------------------------------\u001b[0m",
      "\u001b[0;31mTypeError\u001b[0m                                 Traceback (most recent call last)",
      "Cell \u001b[0;32mIn[24], line 1\u001b[0m\n\u001b[0;32m----> 1\u001b[0m predicted_tensor \u001b[38;5;241m=\u001b[39m \u001b[43mtorch\u001b[49m\u001b[38;5;241;43m.\u001b[39;49m\u001b[43mcat\u001b[49m\u001b[43m(\u001b[49m\u001b[43mpredicted\u001b[49m\u001b[43m,\u001b[49m\u001b[43m \u001b[49m\u001b[43mdim\u001b[49m\u001b[38;5;241;43m=\u001b[39;49m\u001b[38;5;241;43m0\u001b[39;49m\u001b[43m)\u001b[49m \n\u001b[1;32m      2\u001b[0m predicted_tensor\u001b[38;5;241m.\u001b[39mshape\n",
      "\u001b[0;31mTypeError\u001b[0m: cat() received an invalid combination of arguments - got (Tensor, dim=int), but expected one of:\n * (tuple of Tensors tensors, int dim, *, Tensor out)\n * (tuple of Tensors tensors, name dim, *, Tensor out)\n"
     ]
    }
   ],
   "source": [
    "predicted_tensor = torch.cat(predicted, dim=0) \n",
    "predicted_tensor.shape"
   ]
  },
  {
   "cell_type": "code",
   "execution_count": null,
   "id": "d060ee3e-5dc7-41a8-ba74-caf0e2e62623",
   "metadata": {},
   "outputs": [],
   "source": [
    "# Find the indices where values are False (equivalent to 0)\n",
    "false_indices = torch.nonzero(idx_tensor == 0).squeeze()\n",
    "\n",
    "print(f'numero de indices donde la etiqueta fue mal predecida: {false_indices}')"
   ]
  },
  {
   "cell_type": "code",
   "execution_count": null,
   "id": "59222eee-f825-484a-86dd-74950229c64a",
   "metadata": {},
   "outputs": [],
   "source": [
    "print(f'Cantidad de etiquetas equivocadas: {false_indices.shape[0]}')"
   ]
  },
  {
   "cell_type": "code",
   "execution_count": null,
   "id": "d73ed1e1-e1af-4761-bd9c-e5a5c3dfdb48",
   "metadata": {},
   "outputs": [],
   "source": [
    "fig, ax = plt.subplots(3,3, figsize=(14,14))\n",
    "\n",
    "ax[0,0].imshow(x_test[false_indices[0]], cmap=\"gray\")\n",
    "ax[0,0].set_title(f\"Etiqueta predecida: {class_names[predicted_tensor[false_indices[0]]]} ,\\n etiqueta real : {class_names[ y_test[false_indices[0]]]}\")\n",
    "\n",
    "ax[0,1].imshow(x_test[false_indices[1]], cmap=\"gray\")\n",
    "ax[0,1].set_title(f\"Etiqueta predecida: {class_names[predicted_tensor[false_indices[1]]]} ,\\n etiqueta real : {class_names[ y_test[false_indices[1]]]}\")\n",
    "\n",
    "ax[0,2].imshow(x_test[false_indices[2]], cmap=\"gray\")\n",
    "ax[0,2].set_title(f\"Etiqueta predecida: {class_names[predicted_tensor[false_indices[2]]]} ,\\n etiqueta real : {class_names[ y_test[false_indices[2]]]}\")\n",
    "\n",
    "ax[1,0].imshow(x_test[false_indices[3]], cmap=\"gray\")\n",
    "ax[1,0].set_title(f\"Etiqueta predecida: {class_names[predicted_tensor[false_indices[3]]]} ,\\n etiqueta real : {class_names[ y_test[false_indices[3]]]}\")\n",
    "\n",
    "ax[1,1].imshow(x_test[false_indices[4]], cmap=\"gray\")\n",
    "ax[1,1].set_title(f\"Etiqueta predecida: {class_names[predicted_tensor[false_indices[4]]]} ,\\n etiqueta real : {class_names[ y_test[false_indices[4]]]}\")\n",
    "\n",
    "ax[1,2].imshow(x_test[false_indices[5]], cmap=\"gray\")\n",
    "ax[1,2].set_title(f\"Etiqueta predecida: {class_names[predicted_tensor[false_indices[5]]]} ,\\n etiqueta real : {class_names[ y_test[false_indices[5]]]}\")\n",
    "\n",
    "ax[2,0].imshow(x_test[false_indices[6]], cmap=\"gray\")\n",
    "ax[2,0].set_title(f\"Etiqueta predecida: {class_names[predicted_tensor[false_indices[6]]]} ,\\n etiqueta real : {class_names[ y_test[false_indices[6]]]}\")\n",
    "\n",
    "ax[2,1].imshow(x_test[false_indices[7]], cmap=\"gray\")\n",
    "ax[2,1].set_title(f\"Etiqueta predecida: {class_names[predicted_tensor[false_indices[7]]]} ,\\n etiqueta real : {class_names[ y_test[false_indices[7]]]}\")\n",
    "\n",
    "ax[2,2].imshow(x_test[false_indices[8]], cmap=\"gray\")\n",
    "ax[2,2].set_title(f\"Etiqueta predecida: {class_names[predicted_tensor[false_indices[8]]]} ,\\n etiqueta real : {class_names[ y_test[false_indices[8]]]}\")\n",
    "\n",
    "\n",
    "for row in ax:\n",
    "    for axis in row:\n",
    "        axis.axis('off')\n",
    "\n",
    "plt.show()"
   ]
  },
  {
   "cell_type": "code",
   "execution_count": null,
   "id": "4874e84a-b27f-45b9-8ea4-38800094fbfb",
   "metadata": {},
   "outputs": [],
   "source": [
    "error_counts = torch.bincount(y_test[false_indices])\n",
    "\n",
    "plt.bar(class_names, error_counts)\n",
    "plt.title('Numero de etiquetas mal classificadas por clase')\n",
    "plt.xticks(rotation=45)\n",
    "plt.show()\n",
    "\n",
    "print(error_counts)"
   ]
  },
  {
   "cell_type": "code",
   "execution_count": null,
   "id": "c235caae-fc51-45c5-91bf-27d9ba6ad0dd",
   "metadata": {},
   "outputs": [],
   "source": []
  }
 ],
 "metadata": {
  "kernelspec": {
   "display_name": "Python 3 (ipykernel)",
   "language": "python",
   "name": "python3"
  },
  "language_info": {
   "codemirror_mode": {
    "name": "ipython",
    "version": 3
   },
   "file_extension": ".py",
   "mimetype": "text/x-python",
   "name": "python",
   "nbconvert_exporter": "python",
   "pygments_lexer": "ipython3",
   "version": "3.10.11"
  }
 },
 "nbformat": 4,
 "nbformat_minor": 5
}
